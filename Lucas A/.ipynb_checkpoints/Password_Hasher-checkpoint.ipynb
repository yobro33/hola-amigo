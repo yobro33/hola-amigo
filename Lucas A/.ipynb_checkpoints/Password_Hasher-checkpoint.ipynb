{
 "cells": [
  {
   "cell_type": "code",
   "execution_count": 38,
   "id": "5d3c77d8",
   "metadata": {},
   "outputs": [],
   "source": [
    "# Imports\n",
    "import sha256"
   ]
  },
  {
   "cell_type": "code",
   "execution_count": 39,
   "id": "ed7f610d",
   "metadata": {},
   "outputs": [],
   "source": [
    "# Runs Functions\n",
    "def Main():\n",
    "    user = Sign_Up()\n",
    "    Log_In(user)"
   ]
  },
  {
   "cell_type": "code",
   "execution_count": 40,
   "id": "5f1a33c8",
   "metadata": {},
   "outputs": [],
   "source": [
    "# Signs Up\n",
    "def Sign_Up():\n",
    "    # Gets Username\n",
    "    username = Get_Input(\"What is your username?\\n\")\n",
    "    # Gets Password\n",
    "    password = Get_Input(\"What is your password\\n\")\n",
    "    # Hashes and Salts Password\n",
    "    hashed_Password = Hash(username, password)\n",
    "    # Returns Hashed Password\n",
    "    return (username, hashed_Password)"
   ]
  },
  {
   "cell_type": "code",
   "execution_count": 41,
   "id": "7d81b8e4",
   "metadata": {},
   "outputs": [],
   "source": [
    "# Gets User Input\n",
    "def Get_Input(query):\n",
    "    # Sets User Input\n",
    "    userInput = input(query)\n",
    "    # Returns User Input\n",
    "    return userInput"
   ]
  },
  {
   "cell_type": "code",
   "execution_count": 42,
   "id": "d2ec9dba",
   "metadata": {},
   "outputs": [],
   "source": [
    "# Hashes Password\n",
    "def Hash(salt, password):\n",
    "    # Pads Password\n",
    "    padded_Password = sha256.pad_message(password + salt)\n",
    "    # Hashes Password\n",
    "    hashed_Password = sha256.SHA256(padded_Password)\n",
    "    # Hexes Password\n",
    "    hexed_Password = hex(hashed_Password)\n",
    "    # Returns Hexed Password\n",
    "    return hexed_Password"
   ]
  },
  {
   "cell_type": "code",
   "execution_count": 43,
   "id": "e82a2a6a",
   "metadata": {},
   "outputs": [],
   "source": [
    "# Logs in\n",
    "def Log_In(user):\n",
    "    for loop in range(5):\n",
    "        # Gets Password\n",
    "        password = Get_Input(\"What is your password\\n\")\n",
    "        # Hashes and Salts Password\n",
    "        hashed_Password = Hash(user[0], password)\n",
    "        \n",
    "        if(user[1] == hashed_Password):\n",
    "            print(\"good\")\n",
    "            break\n",
    "        else:\n",
    "            print(\"bad\")\n",
    "            if(loop == 4):\n",
    "                print(\"Too many tries\")"
   ]
  },
  {
   "cell_type": "code",
   "execution_count": 44,
   "id": "e81977a1",
   "metadata": {},
   "outputs": [
    {
     "name": "stdout",
     "output_type": "stream",
     "text": [
      "What is your username?\n",
      "lucas\n",
      "What is your password\n",
      "password\n",
      "What is your password\n",
      "password\n",
      "good\n"
     ]
    }
   ],
   "source": [
    "Main()"
   ]
  },
  {
   "cell_type": "code",
   "execution_count": null,
   "id": "1e648998",
   "metadata": {},
   "outputs": [],
   "source": []
  }
 ],
 "metadata": {
  "kernelspec": {
   "display_name": "Python 3 (ipykernel)",
   "language": "python",
   "name": "python3"
  },
  "language_info": {
   "codemirror_mode": {
    "name": "ipython",
    "version": 3
   },
   "file_extension": ".py",
   "mimetype": "text/x-python",
   "name": "python",
   "nbconvert_exporter": "python",
   "pygments_lexer": "ipython3",
   "version": "3.9.10"
  }
 },
 "nbformat": 4,
 "nbformat_minor": 5
}
