{
 "cells": [
  {
   "cell_type": "code",
   "execution_count": null,
   "id": "abd08be9",
   "metadata": {},
   "outputs": [],
   "source": [
    "class Layer:\n",
    "    def __init__(self, layer, neurons):\n",
    "        self.neurons = neurons\n",
    "        self.layer = layer"
   ]
  },
  {
   "cell_type": "code",
   "execution_count": null,
   "id": "b9d444a3",
   "metadata": {},
   "outputs": [],
   "source": [
    "class Neuron:\n",
    "    def __init__(self, connections):\n",
    "        self.connections = connections\n",
    "        value = 0"
   ]
  },
  {
   "cell_type": "code",
   "execution_count": null,
   "id": "9e3d93e1",
   "metadata": {},
   "outputs": [],
   "source": [
    "class Connection:\n",
    "    def __init__(self, neurons):\n",
    "        self.neurons = neurons\n",
    "        weight = 0"
   ]
  },
  {
   "cell_type": "code",
   "execution_count": null,
   "id": "92e9b08a",
   "metadata": {},
   "outputs": [],
   "source": []
  }
 ],
 "metadata": {
  "kernelspec": {
   "display_name": "Python 3 (ipykernel)",
   "language": "python",
   "name": "python3"
  },
  "language_info": {
   "codemirror_mode": {
    "name": "ipython",
    "version": 3
   },
   "file_extension": ".py",
   "mimetype": "text/x-python",
   "name": "python",
   "nbconvert_exporter": "python",
   "pygments_lexer": "ipython3",
   "version": "3.9.10"
  }
 },
 "nbformat": 4,
 "nbformat_minor": 5
}
