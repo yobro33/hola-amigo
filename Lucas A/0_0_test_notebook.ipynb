{
 "cells": [
  {
   "cell_type": "markdown",
   "metadata": {
    "id": "ubbJYMO_MTSa"
   },
   "source": [
    "# Welcome to Jupyter Notebook\n",
    "\n",
    "This is a test notebook to make sure that Jupyter Notebook works."
   ]
  },
  {
   "cell_type": "code",
   "execution_count": 28,
   "metadata": {
    "id": "d2o4c9rIMQWC"
   },
   "outputs": [
    {
     "name": "stdout",
     "output_type": "stream",
     "text": [
      "Hello World\n"
     ]
    }
   ],
   "source": [
    "import webbrowser #imports\n",
    "\n",
    "webbrowser.open(\"reddit.com\")"
   ]
  }
 ],
 "metadata": {
  "colab": {
   "name": "0.0_test_notebook.ipynb",
   "provenance": []
  },
  "kernelspec": {
   "display_name": "Python 3 (ipykernel)",
   "language": "python",
   "name": "python3"
  },
  "language_info": {
   "codemirror_mode": {
    "name": "ipython",
    "version": 3
   },
   "file_extension": ".py",
   "mimetype": "text/x-python",
   "name": "python",
   "nbconvert_exporter": "python",
   "pygments_lexer": "ipython3",
   "version": "3.9.10"
  }
 },
 "nbformat": 4,
 "nbformat_minor": 1
}
