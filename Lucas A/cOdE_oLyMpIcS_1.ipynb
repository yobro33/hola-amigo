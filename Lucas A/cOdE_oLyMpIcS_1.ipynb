{
 "cells": [
  {
   "cell_type": "code",
   "execution_count": 5,
   "id": "07e6688f",
   "metadata": {},
   "outputs": [
    {
     "name": "stdout",
     "output_type": "stream",
     "text": [
      "a\n",
      "b\n",
      "c\n",
      "d\n"
     ]
    }
   ],
   "source": [
    "# Makes list\n",
    "letters = [\"a\", \"b\", \"c\", \"d\"]\n",
    "# Makes Variable\n",
    "x = 0 \n",
    "# Loops\n",
    "while(x < 4): \n",
    "    # Prints\n",
    "    print(letters[x])\n",
    "     # Increases\n",
    "    x += 1"
   ]
  },
  {
   "cell_type": "code",
   "execution_count": 10,
   "id": "47b2f24d",
   "metadata": {},
   "outputs": [
    {
     "name": "stdout",
     "output_type": "stream",
     "text": [
      "a\n",
      "b\n",
      "c\n",
      "d\n",
      "e\n",
      "f\n"
     ]
    }
   ],
   "source": [
    "# Makes List\n",
    "letters = [[\"a\",\"b\"],[\"c\",\"d\"],[\"e\",\"f\"]]\n",
    "# Iterates through list\n",
    "for x in range(len(letters)):\n",
    "    # Iterates through list\n",
    "    for y in range(2):\n",
    "        # Prints\n",
    "        print(letters[x][y])"
   ]
  },
  {
   "cell_type": "code",
   "execution_count": 17,
   "id": "9bf47d3d",
   "metadata": {},
   "outputs": [
    {
     "name": "stdout",
     "output_type": "stream",
     "text": [
      "8\n"
     ]
    }
   ],
   "source": [
    "# Multiply Function\n",
    "def dfg(x, y, z):\n",
    "    # Multiply\n",
    "    vafgdd = x *y*z\n",
    "    # Returns\n",
    "    return vafgdd\n",
    "# Print\n",
    "print(dfg(2, 2, 2))"
   ]
  },
  {
   "cell_type": "code",
   "execution_count": null,
   "id": "417a1838",
   "metadata": {},
   "outputs": [],
   "source": [
    "# Adds\n",
    "def math(input):\n",
    "    # Checking\n",
    "    if(input[1] == \"+\"):\n",
    "        print(int(input[0]) + int(input[-1]))\n",
    "    else:\n",
    "        print(int(input[0]) - int(input[-1]))\n",
    "\n",
    "# Runs Function        \n",
    "math(input(\"Numbers!\\n\"))"
   ]
  },
  {
   "cell_type": "code",
   "execution_count": 4,
   "id": "b026252e",
   "metadata": {},
   "outputs": [
    {
     "name": "stdout",
     "output_type": "stream",
     "text": [
      "Numbers! exit\n"
     ]
    }
   ],
   "source": [
    "\n",
    "# Adds\n",
    "def math():\n",
    "    while(True):\n",
    "        a = input(\"Numbers! \")\n",
    "        # Checking\n",
    "        if(a == \"exit\"):\n",
    "            break\n",
    "        if(a[1] == \"+\"):\n",
    "            print(int(a[0]) + int(a[-1]))\n",
    "        else:\n",
    "            print(int(a[0]) - int(a[-1]))\n",
    "\n",
    "    # Runs Function        \n",
    "math()"
   ]
  },
  {
   "cell_type": "code",
   "execution_count": 5,
   "id": "baf15e4d",
   "metadata": {},
   "outputs": [
    {
     "ename": "IndexError",
     "evalue": "list assignment index out of range",
     "output_type": "error",
     "traceback": [
      "\u001b[1;31m---------------------------------------------------------------------------\u001b[0m",
      "\u001b[1;31mIndexError\u001b[0m                                Traceback (most recent call last)",
      "Input \u001b[1;32mIn [5]\u001b[0m, in \u001b[0;36m<module>\u001b[1;34m\u001b[0m\n\u001b[0;32m      4\u001b[0m         out[x \u001b[38;5;241m+\u001b[39m \u001b[38;5;241m2\u001b[39m] \u001b[38;5;241m=\u001b[39m word[x]\n\u001b[0;32m      5\u001b[0m         \u001b[38;5;28mprint\u001b[39m(out)\n\u001b[1;32m----> 7\u001b[0m \u001b[43mshift\u001b[49m\u001b[43m(\u001b[49m\u001b[38;5;124;43m\"\u001b[39;49m\u001b[38;5;124;43msteve\u001b[39;49m\u001b[38;5;124;43m\"\u001b[39;49m\u001b[43m)\u001b[49m\n",
      "Input \u001b[1;32mIn [5]\u001b[0m, in \u001b[0;36mshift\u001b[1;34m(word)\u001b[0m\n\u001b[0;32m      2\u001b[0m out \u001b[38;5;241m=\u001b[39m []\n\u001b[0;32m      3\u001b[0m \u001b[38;5;28;01mfor\u001b[39;00m x \u001b[38;5;129;01min\u001b[39;00m \u001b[38;5;28mrange\u001b[39m(\u001b[38;5;28mlen\u001b[39m(word)):\n\u001b[1;32m----> 4\u001b[0m     out[x \u001b[38;5;241m+\u001b[39m \u001b[38;5;241m2\u001b[39m] \u001b[38;5;241m=\u001b[39m word[x]\n\u001b[0;32m      5\u001b[0m     \u001b[38;5;28mprint\u001b[39m(out)\n",
      "\u001b[1;31mIndexError\u001b[0m: list assignment index out of range"
     ]
    }
   ],
   "source": [
    "def shift(word):\n",
    "    out = []\n",
    "    for x in range(len(word)):\n",
    "        if(x + 2 < len(word)):\n",
    "            out[x + 2] = word[x]\n",
    "            print(out)\n",
    "        else:\n",
    "            \n",
    "\n",
    "shift(\"steve\")"
   ]
  },
  {
   "cell_type": "code",
   "execution_count": null,
   "id": "1ee5ff57",
   "metadata": {},
   "outputs": [],
   "source": []
  },
  {
   "cell_type": "code",
   "execution_count": null,
   "id": "f9f98688",
   "metadata": {},
   "outputs": [],
   "source": []
  },
  {
   "cell_type": "code",
   "execution_count": null,
   "id": "48b62d74",
   "metadata": {},
   "outputs": [],
   "source": []
  },
  {
   "cell_type": "code",
   "execution_count": null,
   "id": "d70d4f9e",
   "metadata": {},
   "outputs": [],
   "source": []
  },
  {
   "cell_type": "code",
   "execution_count": null,
   "id": "056d3503",
   "metadata": {},
   "outputs": [],
   "source": []
  }
 ],
 "metadata": {
  "kernelspec": {
   "display_name": "Python 3 (ipykernel)",
   "language": "python",
   "name": "python3"
  },
  "language_info": {
   "codemirror_mode": {
    "name": "ipython",
    "version": 3
   },
   "file_extension": ".py",
   "mimetype": "text/x-python",
   "name": "python",
   "nbconvert_exporter": "python",
   "pygments_lexer": "ipython3",
   "version": "3.9.10"
  }
 },
 "nbformat": 4,
 "nbformat_minor": 5
}
