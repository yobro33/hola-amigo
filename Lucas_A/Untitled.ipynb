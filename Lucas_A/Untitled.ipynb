{
 "cells": [
  {
   "cell_type": "code",
   "execution_count": 9,
   "id": "b4beec62",
   "metadata": {},
   "outputs": [],
   "source": [
    "class Layer:\n",
    "    def __init__(self, neuron_Count, layer):\n",
    "        neurons = []\n",
    "        for neuron in range(neuron_Count):\n",
    "            neurons.append(Neuron())\n",
    "        self.neurons = neurons\n",
    "        self.layer = layer\n",
    "        \n",
    "    def connect(self, secondLayer):\n",
    "        for firstNeurons in range(len(self.neurons) - 1):\n",
    "            for secondNeurons in range(len(secondLayer.neurons) - 1):\n",
    "                self.neurons[firstNeurons]"
   ]
  },
  {
   "cell_type": "code",
   "execution_count": 10,
   "id": "b9309c05",
   "metadata": {},
   "outputs": [],
   "source": [
    "class Neuron:\n",
    "    def __init__(self):\n",
    "        connections = []\n",
    "        value = 0"
   ]
  },
  {
   "cell_type": "code",
   "execution_count": 11,
   "id": "a3778a1f",
   "metadata": {},
   "outputs": [],
   "source": [
    "class Connection:\n",
    "    def __init__(self, neurons):\n",
    "        self.neurons = neurons\n",
    "        weight = 0"
   ]
  },
  {
   "cell_type": "code",
   "execution_count": 14,
   "id": "f291d951",
   "metadata": {},
   "outputs": [],
   "source": [
    "def createNetwork():\n",
    "    inputLayer = Layer(5, 0)\n",
    "    hiddenLayer = Layer(8, 1)\n",
    "    outputLayer = Layer(5, 2)\n",
    "    inputLayer.connect(hiddenLayer)"
   ]
  },
  {
   "cell_type": "code",
   "execution_count": 15,
   "id": "589dd7d8",
   "metadata": {},
   "outputs": [
    {
     "name": "stdout",
     "output_type": "stream",
     "text": [
      "[<__main__.Neuron object at 0x000001E7B3D7A3D0>, <__main__.Neuron object at 0x000001E7B3D7ABE0>, <__main__.Neuron object at 0x000001E7B3D7A460>, <__main__.Neuron object at 0x000001E7B3D7A190>, <__main__.Neuron object at 0x000001E7B3D7A370>]\n"
     ]
    }
   ],
   "source": [
    "createNetwork()"
   ]
  },
  {
   "cell_type": "code",
   "execution_count": null,
   "id": "7b5e3494",
   "metadata": {},
   "outputs": [],
   "source": []
  }
 ],
 "metadata": {
  "kernelspec": {
   "display_name": "Python 3 (ipykernel)",
   "language": "python",
   "name": "python3"
  },
  "language_info": {
   "codemirror_mode": {
    "name": "ipython",
    "version": 3
   },
   "file_extension": ".py",
   "mimetype": "text/x-python",
   "name": "python",
   "nbconvert_exporter": "python",
   "pygments_lexer": "ipython3",
   "version": "3.9.10"
  }
 },
 "nbformat": 4,
 "nbformat_minor": 5
}
