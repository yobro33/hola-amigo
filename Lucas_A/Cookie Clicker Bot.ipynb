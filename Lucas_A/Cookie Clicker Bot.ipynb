{
 "cells": [
  {
   "cell_type": "code",
   "execution_count": 2,
   "id": "042b36a8",
   "metadata": {},
   "outputs": [
    {
     "data": {
      "text/plain": [
       "True"
      ]
     },
     "execution_count": 2,
     "metadata": {},
     "output_type": "execute_result"
    }
   ],
   "source": [
    "# Imports\n",
    "import webbrowser\n",
    "\n",
    "webbrowser.open(\"https://orteil.dashnet.org/cookieclicker/\")"
   ]
  },
  {
   "cell_type": "code",
   "execution_count": null,
   "id": "3653fd69",
   "metadata": {},
   "outputs": [],
   "source": [
    "def determineBestAction():\n",
    "    actionList = [(\"cursor\", ), ()]\n",
    "    for actions in range(len(actionList)):\n",
    "        \n",
    "        "
   ]
  }
 ],
 "metadata": {
  "kernelspec": {
   "display_name": "Python 3 (ipykernel)",
   "language": "python",
   "name": "python3"
  },
  "language_info": {
   "codemirror_mode": {
    "name": "ipython",
    "version": 3
   },
   "file_extension": ".py",
   "mimetype": "text/x-python",
   "name": "python",
   "nbconvert_exporter": "python",
   "pygments_lexer": "ipython3",
   "version": "3.9.10"
  }
 },
 "nbformat": 4,
 "nbformat_minor": 5
}
