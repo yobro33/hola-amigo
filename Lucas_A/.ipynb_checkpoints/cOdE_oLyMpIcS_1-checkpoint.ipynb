{
 "cells": [
  {
   "cell_type": "code",
   "execution_count": 5,
   "id": "27ddbaf6",
   "metadata": {},
   "outputs": [
    {
     "name": "stdout",
     "output_type": "stream",
     "text": [
      "a\n",
      "b\n",
      "c\n",
      "d\n"
     ]
    }
   ],
   "source": [
    "# Makes list\n",
    "letters = [\"a\", \"b\", \"c\", \"d\"]\n",
    "# Makes Variable\n",
    "x = 0 \n",
    "# Loops\n",
    "while(x < 4): \n",
    "    # Prints\n",
    "    print(letters[x])\n",
    "     # Increases\n",
    "    x += 1"
   ]
  },
  {
   "cell_type": "code",
   "execution_count": 10,
   "id": "111bd693",
   "metadata": {},
   "outputs": [
    {
     "name": "stdout",
     "output_type": "stream",
     "text": [
      "a\n",
      "b\n",
      "c\n",
      "d\n",
      "e\n",
      "f\n"
     ]
    }
   ],
   "source": [
    "# Makes List\n",
    "letters = [[\"a\",\"b\"],[\"c\",\"d\"],[\"e\",\"f\"]]\n",
    "# Iterates through list\n",
    "for x in range(len(letters)):\n",
    "    # Iterates through list\n",
    "    for y in range(2):\n",
    "        # Prints\n",
    "        print(letters[x][y])"
   ]
  },
  {
   "cell_type": "code",
   "execution_count": 16,
   "id": "56ff3ecb",
   "metadata": {},
   "outputs": [
    {
     "name": "stdout",
     "output_type": "stream",
     "text": [
      "8\n"
     ]
    }
   ],
   "source": [
    "# Multiply Function\n",
    "def dfg(x, y, z):\n",
    "    # Multiply\n",
    "    vafgdd = x *y*z\n",
    "    # Returns\n",
    "    return vafgdd\n",
    "# Print\n",
    "print(dfg(2, 2, 2))"
   ]
  },
  {
   "cell_type": "code",
   "execution_count": null,
   "id": "f9dc97af",
   "metadata": {},
   "outputs": [],
   "source": []
  }
 ],
 "metadata": {
  "kernelspec": {
   "display_name": "Python 3 (ipykernel)",
   "language": "python",
   "name": "python3"
  },
  "language_info": {
   "codemirror_mode": {
    "name": "ipython",
    "version": 3
   },
   "file_extension": ".py",
   "mimetype": "text/x-python",
   "name": "python",
   "nbconvert_exporter": "python",
   "pygments_lexer": "ipython3",
   "version": "3.9.10"
  }
 },
 "nbformat": 4,
 "nbformat_minor": 5
}
