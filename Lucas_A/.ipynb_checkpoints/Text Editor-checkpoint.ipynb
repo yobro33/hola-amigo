{
 "cells": [
  {
   "cell_type": "code",
   "execution_count": null,
   "id": "186ca6a8",
   "metadata": {},
   "outputs": [],
   "source": [
    "# TextEditor™ Lucas A.\n",
    "\n",
    "# Imports\n",
    "from os.path import exists"
   ]
  },
  {
   "cell_type": "code",
   "execution_count": null,
   "id": "942b982f",
   "metadata": {},
   "outputs": [],
   "source": [
    "# Game Loop\n",
    "def Game_Loop():\n",
    "    # Variable that changes if the loop is running\n",
    "    running = True\n",
    "    # Array of inputted text\n",
    "    text = []\n",
    "    # Is running when it is running\n",
    "    while(running):\n",
    "        # Gets user input\n",
    "        userInput = input()\n",
    "        # Checks if user is saving\n",
    "        if(userInput[:7] == \"--save \"):\n",
    "            # Saves text\n",
    "            Save(text, userInput[7:])\n",
    "            # Makes the loop stop running\n",
    "        elif(userInput[:7] == \"--open \"):\n",
    "            Open(userInput[7:])\n",
    "        # Runs if user is not saving\n",
    "        else:\n",
    "            # Appends the user input to list of text\n",
    "            text.append(userInput)"
   ]
  },
  {
   "cell_type": "code",
   "execution_count": null,
   "id": "5b3f52e0",
   "metadata": {},
   "outputs": [],
   "source": [
    "# Saves the text in a file\n",
    "def Save(text, name):\n",
    "    # Opens the file\n",
    "    file = open(name, \"w\")\n",
    "    # Writes to the file\n",
    "    for line in range(len(text)):\n",
    "        file.write(text[line] + \"\\n\")\n",
    "    # Closes the file\n",
    "    file.close()\n",
    "    "
   ]
  },
  {
   "cell_type": "code",
   "execution_count": null,
   "id": "91ef8ab4",
   "metadata": {},
   "outputs": [],
   "source": [
    "# Opens the file\n",
    "def Open(name):\n",
    "    # Checks if file exists\n",
    "    if(exists(name)):\n",
    "        # Opens the file\n",
    "        file = open(name, \"r\")\n",
    "        # Iterates through the file\n",
    "        for line in file:\n",
    "            # Prints all of the lines from the file\n",
    "            print(line)\n",
    "    else:\n",
    "        print(\"File does not exist\")"
   ]
  },
  {
   "cell_type": "code",
   "execution_count": null,
   "id": "27a6f657",
   "metadata": {},
   "outputs": [],
   "source": [
    "Game_Loop()"
   ]
  },
  {
   "cell_type": "code",
   "execution_count": null,
   "id": "949c5ff6",
   "metadata": {},
   "outputs": [],
   "source": []
  },
  {
   "cell_type": "code",
   "execution_count": null,
   "id": "4defc491",
   "metadata": {},
   "outputs": [],
   "source": []
  },
  {
   "cell_type": "code",
   "execution_count": null,
   "id": "f321ebf2",
   "metadata": {},
   "outputs": [],
   "source": []
  }
 ],
 "metadata": {
  "kernelspec": {
   "display_name": "Python 3 (ipykernel)",
   "language": "python",
   "name": "python3"
  },
  "language_info": {
   "codemirror_mode": {
    "name": "ipython",
    "version": 3
   },
   "file_extension": ".py",
   "mimetype": "text/x-python",
   "name": "python",
   "nbconvert_exporter": "python",
   "pygments_lexer": "ipython3",
   "version": "3.9.10"
  }
 },
 "nbformat": 4,
 "nbformat_minor": 5
}
