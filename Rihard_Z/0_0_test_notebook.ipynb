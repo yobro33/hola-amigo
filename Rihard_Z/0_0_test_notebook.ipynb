{
  "nbformat": 4,
  "nbformat_minor": 0,
  "metadata": {
    "colab": {
      "name": "0.0_test_notebook.ipynb",
      "provenance": []
    },
    "kernelspec": {
      "name": "python3",
      "display_name": "Python 3"
    },
    "language_info": {
      "name": "python"
    }
  },
  "cells": [
    {
      "cell_type": "markdown",
      "source": [
        "# Welcome to Jupyter Notebook\n",
        "\n",
        "This is a test notebook to make sure that Jupyter Notebook works."
      ],
      "metadata": {
        "id": "ubbJYMO_MTSa"
      }
    },
    {
      "cell_type": "code",
      "execution_count": null,
      "metadata": {
        "id": "d2o4c9rIMQWC"
      },
      "outputs": [],
      "source": [
        "# Uset Ctrl+Enter to run this cell\n",
        "print(\"Hello World\")"
      ]
    }
  ]
}